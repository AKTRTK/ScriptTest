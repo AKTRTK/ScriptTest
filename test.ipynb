{
  "nbformat": 4,
  "nbformat_minor": 0,
  "metadata": {
    "colab": {
      "name": "test.ipynb",
      "provenance": [],
      "mount_file_id": "1yToZR7NEDBSAjfKDgOppjRJ_bETObuv8",
      "authorship_tag": "ABX9TyP7hjdZywPk2BW58xDq2f0i",
      "include_colab_link": true
    },
    "kernelspec": {
      "name": "python3",
      "display_name": "Python 3"
    },
    "language_info": {
      "name": "python"
    }
  },
  "cells": [
    {
      "cell_type": "markdown",
      "metadata": {
        "id": "view-in-github",
        "colab_type": "text"
      },
      "source": [
        "<a href=\"https://colab.research.google.com/github/AKTRTK/ScriptTest/blob/main/test.ipynb\" target=\"_parent\"><img src=\"https://colab.research.google.com/assets/colab-badge.svg\" alt=\"Open In Colab\"/></a>"
      ]
    },
    {
      "cell_type": "code",
      "execution_count": null,
      "metadata": {
        "colab": {
          "base_uri": "https://localhost:8080/"
        },
        "id": "3eV61kQSlqi4",
        "outputId": "cfe7cd26-05c6-4bbe-e26c-1eac7a4b7625"
      },
      "outputs": [
        {
          "output_type": "stream",
          "name": "stdout",
          "text": [
            "hello\n"
          ]
        }
      ],
      "source": [
        "print(\"hello\")"
      ]
    },
    {
      "cell_type": "code",
      "source": [
        "print(\"test2\")"
      ],
      "metadata": {
        "id": "w7jmNeiYlz_J",
        "colab": {
          "base_uri": "https://localhost:8080/"
        },
        "outputId": "bff6f1a3-dd1e-4c66-cee5-73b3e0e34dcd"
      },
      "execution_count": 2,
      "outputs": [
        {
          "output_type": "stream",
          "name": "stdout",
          "text": [
            "test2\n"
          ]
        }
      ]
    }
  ]
}